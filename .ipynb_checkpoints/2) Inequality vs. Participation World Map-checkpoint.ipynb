{
 "cells": [
  {
   "cell_type": "code",
   "execution_count": 1,
   "metadata": {
    "scrolled": true
   },
   "outputs": [],
   "source": [
    "import pandas as pd\n",
    "import numpy as np\n",
    "import matplotlib.pyplot as plt\n",
    "import seaborn as sns\n",
    "from scipy.stats.stats import pearsonr\n",
    "import folium\n",
    "import os"
   ]
  },
  {
   "cell_type": "markdown",
   "metadata": {},
   "source": [
    "<p style=\"font-size:2.5vw; color:purple;\"> \"Welcome to Wherever You Are\"</p>"
   ]
  },
  {
   "cell_type": "markdown",
   "metadata": {},
   "source": [
    "Here we'll enlarge our analysis to encompass every OECD Country for which we have a measure of inequality and election data"
   ]
  },
  {
   "cell_type": "code",
   "execution_count": 4,
   "metadata": {
    "scrolled": true
   },
   "outputs": [
    {
     "data": {
      "text/html": [
       "<div>\n",
       "<style scoped>\n",
       "    .dataframe tbody tr th:only-of-type {\n",
       "        vertical-align: middle;\n",
       "    }\n",
       "\n",
       "    .dataframe tbody tr th {\n",
       "        vertical-align: top;\n",
       "    }\n",
       "\n",
       "    .dataframe thead th {\n",
       "        text-align: right;\n",
       "    }\n",
       "</style>\n",
       "<table border=\"1\" class=\"dataframe\">\n",
       "  <thead>\n",
       "    <tr style=\"text-align: right;\">\n",
       "      <th></th>\n",
       "      <th>Country</th>\n",
       "      <th>Election type</th>\n",
       "      <th>Year</th>\n",
       "      <th>Voter Turnout</th>\n",
       "      <th>Registration</th>\n",
       "      <th>Voting age population</th>\n",
       "      <th>Population</th>\n",
       "      <th>Compulsory voting</th>\n",
       "    </tr>\n",
       "  </thead>\n",
       "  <tbody>\n",
       "    <tr>\n",
       "      <th>222</th>\n",
       "      <td>Korea, Republic of</td>\n",
       "      <td>Parliamentary</td>\n",
       "      <td>2016</td>\n",
       "      <td>58.03 %</td>\n",
       "      <td>42,100,398</td>\n",
       "      <td>40,193,279</td>\n",
       "      <td>49,180,776</td>\n",
       "      <td>No</td>\n",
       "    </tr>\n",
       "    <tr>\n",
       "      <th>223</th>\n",
       "      <td>Korea, Republic of</td>\n",
       "      <td>Parliamentary</td>\n",
       "      <td>2012</td>\n",
       "      <td>54.26 %</td>\n",
       "      <td>40,205,055</td>\n",
       "      <td>38,752,951</td>\n",
       "      <td>48,860,500</td>\n",
       "      <td>No</td>\n",
       "    </tr>\n",
       "    <tr>\n",
       "      <th>224</th>\n",
       "      <td>Korea, Republic of</td>\n",
       "      <td>Parliamentary</td>\n",
       "      <td>2008</td>\n",
       "      <td>46.01 %</td>\n",
       "      <td>37,796,035</td>\n",
       "      <td>37,321,655</td>\n",
       "      <td>49,296,708</td>\n",
       "      <td>No</td>\n",
       "    </tr>\n",
       "    <tr>\n",
       "      <th>225</th>\n",
       "      <td>Korea, Republic of</td>\n",
       "      <td>Parliamentary</td>\n",
       "      <td>2004</td>\n",
       "      <td>59.98 %</td>\n",
       "      <td>35,596,497</td>\n",
       "      <td>35,910,736</td>\n",
       "      <td>48,289,037</td>\n",
       "      <td>No</td>\n",
       "    </tr>\n",
       "    <tr>\n",
       "      <th>226</th>\n",
       "      <td>Korea, Republic of</td>\n",
       "      <td>Parliamentary</td>\n",
       "      <td>2000</td>\n",
       "      <td>57.21 %</td>\n",
       "      <td>33,482,387</td>\n",
       "      <td>34,364,710</td>\n",
       "      <td>47,424,300</td>\n",
       "      <td>No</td>\n",
       "    </tr>\n",
       "  </tbody>\n",
       "</table>\n",
       "</div>"
      ],
      "text/plain": [
       "                Country  Election type  Year Voter Turnout Registration  \\\n",
       "222  Korea, Republic of  Parliamentary  2016       58.03 %  42,100,398    \n",
       "223  Korea, Republic of  Parliamentary  2012       54.26 %  40,205,055    \n",
       "224  Korea, Republic of  Parliamentary  2008       46.01 %  37,796,035    \n",
       "225  Korea, Republic of  Parliamentary  2004       59.98 %  35,596,497    \n",
       "226  Korea, Republic of  Parliamentary  2000       57.21 %  33,482,387    \n",
       "\n",
       "    Voting age population   Population Compulsory voting  \n",
       "222           40,193,279   49,180,776                 No  \n",
       "223           38,752,951   48,860,500                 No  \n",
       "224           37,321,655   49,296,708                 No  \n",
       "225           35,910,736   48,289,037                 No  \n",
       "226           34,364,710   47,424,300                 No  "
      ]
     },
     "execution_count": 4,
     "metadata": {},
     "output_type": "execute_result"
    }
   ],
   "source": [
    "idea = pd.read_csv('IDEA-oecd_turnout_80_2017.csv')\n",
    "idea[idea['Country'] == 'Korea, Republic of'].head()"
   ]
  },
  {
   "cell_type": "code",
   "execution_count": 9,
   "metadata": {},
   "outputs": [],
   "source": [
    "Countrydict = {}\n",
    "for country in idea['Country'].unique().tolist():\n",
    "    if os.path.isfile('./WID_Data_Metadata/WID_'+country+'.csv'):\n",
    "        Countrydict[country] = pd.read_csv('./WID_Data_Metadata/WID_'+country+'.csv', engine=\"python\", sep=\";\")\n"
   ]
  },
  {
   "cell_type": "code",
   "execution_count": 6,
   "metadata": {},
   "outputs": [],
   "source": [
    "Merged_Dict = {}\n",
    "for key in Countrydict.keys():\n",
    "    Merged_Dict[key] = Countrydict[key].merge(idea[idea['Country']==key], how=\"inner\")"
   ]
  },
  {
   "cell_type": "code",
   "execution_count": 15,
   "metadata": {},
   "outputs": [
    {
     "data": {
      "text/plain": [
       "(21,\n",
       " dict_keys(['Australia', 'Canada', 'Denmark', 'Finland', 'France', 'Germany', 'Hungary', 'Ireland', 'Italy', 'Japan', 'Korea, Republic of', 'Netherlands', 'New Zealand', 'Norway', 'Poland', 'Portugal', 'Spain', 'Sweden', 'Turkey', 'United Kingdom', 'United States']))"
      ]
     },
     "execution_count": 15,
     "metadata": {},
     "output_type": "execute_result"
    }
   ],
   "source": [
    "len(Merged_Dict), Merged_Dict.keys() # We've got dataframes for 21 countries stored in a dict"
   ]
  },
  {
   "cell_type": "code",
   "execution_count": 67,
   "metadata": {},
   "outputs": [
    {
     "data": {
      "text/html": [
       "<div>\n",
       "<style scoped>\n",
       "    .dataframe tbody tr th:only-of-type {\n",
       "        vertical-align: middle;\n",
       "    }\n",
       "\n",
       "    .dataframe tbody tr th {\n",
       "        vertical-align: top;\n",
       "    }\n",
       "\n",
       "    .dataframe thead th {\n",
       "        text-align: right;\n",
       "    }\n",
       "</style>\n",
       "<table border=\"1\" class=\"dataframe\">\n",
       "  <thead>\n",
       "    <tr style=\"text-align: right;\">\n",
       "      <th></th>\n",
       "      <th>Year</th>\n",
       "      <th>Pre-tax national income \n",
       "Top 10% share</th>\n",
       "      <th>Pre-tax national income \n",
       "Top 1% share</th>\n",
       "      <th>Net personal wealth\n",
       "Top 10% share</th>\n",
       "      <th>Net personal wealth\n",
       "Top 1% share</th>\n",
       "      <th>Country</th>\n",
       "      <th>Election type</th>\n",
       "      <th>Voter Turnout</th>\n",
       "      <th>Registration</th>\n",
       "      <th>Voting age population</th>\n",
       "      <th>Population</th>\n",
       "      <th>Compulsory voting</th>\n",
       "    </tr>\n",
       "  </thead>\n",
       "  <tbody>\n",
       "    <tr>\n",
       "      <th>10</th>\n",
       "      <td>2007</td>\n",
       "      <td>0.423916</td>\n",
       "      <td>0.112832</td>\n",
       "      <td>NaN</td>\n",
       "      <td>NaN</td>\n",
       "      <td>Korea, Republic of</td>\n",
       "      <td>Presidential</td>\n",
       "      <td>63.01 %</td>\n",
       "      <td>37,653,518</td>\n",
       "      <td>36,974,899</td>\n",
       "      <td>49,044,790</td>\n",
       "      <td>No</td>\n",
       "    </tr>\n",
       "    <tr>\n",
       "      <th>11</th>\n",
       "      <td>2008</td>\n",
       "      <td>0.428622</td>\n",
       "      <td>0.113724</td>\n",
       "      <td>NaN</td>\n",
       "      <td>NaN</td>\n",
       "      <td>Korea, Republic of</td>\n",
       "      <td>Parliamentary</td>\n",
       "      <td>46.01 %</td>\n",
       "      <td>37,796,035</td>\n",
       "      <td>37,321,655</td>\n",
       "      <td>49,296,708</td>\n",
       "      <td>No</td>\n",
       "    </tr>\n",
       "    <tr>\n",
       "      <th>12</th>\n",
       "      <td>2012</td>\n",
       "      <td>0.448700</td>\n",
       "      <td>0.122300</td>\n",
       "      <td>NaN</td>\n",
       "      <td>NaN</td>\n",
       "      <td>Korea, Republic of</td>\n",
       "      <td>Parliamentary</td>\n",
       "      <td>54.26 %</td>\n",
       "      <td>40,205,055</td>\n",
       "      <td>38,752,951</td>\n",
       "      <td>48,860,500</td>\n",
       "      <td>No</td>\n",
       "    </tr>\n",
       "    <tr>\n",
       "      <th>13</th>\n",
       "      <td>2012</td>\n",
       "      <td>0.448700</td>\n",
       "      <td>0.122300</td>\n",
       "      <td>NaN</td>\n",
       "      <td>NaN</td>\n",
       "      <td>Korea, Republic of</td>\n",
       "      <td>Presidential</td>\n",
       "      <td>75.84 %</td>\n",
       "      <td>40,507,842</td>\n",
       "      <td>38,752,951</td>\n",
       "      <td>48,860,500</td>\n",
       "      <td>No</td>\n",
       "    </tr>\n",
       "  </tbody>\n",
       "</table>\n",
       "</div>"
      ],
      "text/plain": [
       "    Year  Pre-tax national income \\nTop 10% share  \\\n",
       "10  2007                                 0.423916   \n",
       "11  2008                                 0.428622   \n",
       "12  2012                                 0.448700   \n",
       "13  2012                                 0.448700   \n",
       "\n",
       "    Pre-tax national income \\nTop 1% share  \\\n",
       "10                                0.112832   \n",
       "11                                0.113724   \n",
       "12                                0.122300   \n",
       "13                                0.122300   \n",
       "\n",
       "    Net personal wealth\\nTop 10% share  Net personal wealth\\nTop 1% share  \\\n",
       "10                                 NaN                                NaN   \n",
       "11                                 NaN                                NaN   \n",
       "12                                 NaN                                NaN   \n",
       "13                                 NaN                                NaN   \n",
       "\n",
       "               Country  Election type Voter Turnout Registration  \\\n",
       "10  Korea, Republic of   Presidential       63.01 %  37,653,518    \n",
       "11  Korea, Republic of  Parliamentary       46.01 %  37,796,035    \n",
       "12  Korea, Republic of  Parliamentary       54.26 %  40,205,055    \n",
       "13  Korea, Republic of   Presidential       75.84 %  40,507,842    \n",
       "\n",
       "   Voting age population   Population Compulsory voting  \n",
       "10           36,974,899   49,044,790                 No  \n",
       "11           37,321,655   49,296,708                 No  \n",
       "12           38,752,951   48,860,500                 No  \n",
       "13           38,752,951   48,860,500                 No  "
      ]
     },
     "execution_count": 67,
     "metadata": {},
     "output_type": "execute_result"
    }
   ],
   "source": [
    "Merged_Dict['Korea, Republic of'].tail(4) # We can use the dict to access any Country's DataFrame we fancy"
   ]
  },
  {
   "cell_type": "code",
   "execution_count": 18,
   "metadata": {},
   "outputs": [
    {
     "data": {
      "text/plain": [
       "2013"
      ]
     },
     "execution_count": 18,
     "metadata": {},
     "output_type": "execute_result"
    }
   ],
   "source": [
    "Merged_Dict['Australia']['Year'].max()"
   ]
  },
  {
   "cell_type": "code",
   "execution_count": 24,
   "metadata": {},
   "outputs": [],
   "source": [
    "Last_Known_Election_Dict = {}\n",
    "for key in Merged_Dict.keys():\n",
    "    Last_Known_Election_Dict[key] = Merged_Dict[key][Merged_Dict[key]['Year'] == Merged_Dict[key]['Year'].max()]"
   ]
  },
  {
   "cell_type": "code",
   "execution_count": 25,
   "metadata": {
    "scrolled": true
   },
   "outputs": [
    {
     "data": {
      "text/html": [
       "<div>\n",
       "<style scoped>\n",
       "    .dataframe tbody tr th:only-of-type {\n",
       "        vertical-align: middle;\n",
       "    }\n",
       "\n",
       "    .dataframe tbody tr th {\n",
       "        vertical-align: top;\n",
       "    }\n",
       "\n",
       "    .dataframe thead th {\n",
       "        text-align: right;\n",
       "    }\n",
       "</style>\n",
       "<table border=\"1\" class=\"dataframe\">\n",
       "  <thead>\n",
       "    <tr style=\"text-align: right;\">\n",
       "      <th></th>\n",
       "      <th>Year</th>\n",
       "      <th>Pre-tax national income \n",
       "Top 10% share</th>\n",
       "      <th>Pre-tax national income \n",
       "Top 1% share</th>\n",
       "      <th>Net personal wealth\n",
       "Top 10% share</th>\n",
       "      <th>Net personal wealth\n",
       "Top 1% share</th>\n",
       "      <th>Country</th>\n",
       "      <th>Election type</th>\n",
       "      <th>Voter Turnout</th>\n",
       "      <th>Registration</th>\n",
       "      <th>Voting age population</th>\n",
       "      <th>Population</th>\n",
       "      <th>Compulsory voting</th>\n",
       "    </tr>\n",
       "  </thead>\n",
       "  <tbody>\n",
       "    <tr>\n",
       "      <th>26</th>\n",
       "      <td>2014</td>\n",
       "      <td>0.47017</td>\n",
       "      <td>0.202</td>\n",
       "      <td>0.72985</td>\n",
       "      <td>0.38562</td>\n",
       "      <td>United States</td>\n",
       "      <td>Parliamentary</td>\n",
       "      <td>42.50 %</td>\n",
       "      <td>190,669,639</td>\n",
       "      <td>245,712,915</td>\n",
       "      <td>318,892,103</td>\n",
       "      <td>No</td>\n",
       "    </tr>\n",
       "  </tbody>\n",
       "</table>\n",
       "</div>"
      ],
      "text/plain": [
       "    Year  Pre-tax national income \\nTop 10% share  \\\n",
       "26  2014                                  0.47017   \n",
       "\n",
       "    Pre-tax national income \\nTop 1% share  \\\n",
       "26                                   0.202   \n",
       "\n",
       "    Net personal wealth\\nTop 10% share  Net personal wealth\\nTop 1% share  \\\n",
       "26                             0.72985                            0.38562   \n",
       "\n",
       "          Country  Election type Voter Turnout  Registration  \\\n",
       "26  United States  Parliamentary       42.50 %  190,669,639    \n",
       "\n",
       "   Voting age population    Population Compulsory voting  \n",
       "26          245,712,915   318,892,103                 No  "
      ]
     },
     "execution_count": 25,
     "metadata": {},
     "output_type": "execute_result"
    }
   ],
   "source": [
    "Last_Election_Dict['United States']"
   ]
  },
  {
   "cell_type": "code",
   "execution_count": 26,
   "metadata": {},
   "outputs": [
    {
     "data": {
      "text/html": [
       "<div>\n",
       "<style scoped>\n",
       "    .dataframe tbody tr th:only-of-type {\n",
       "        vertical-align: middle;\n",
       "    }\n",
       "\n",
       "    .dataframe tbody tr th {\n",
       "        vertical-align: top;\n",
       "    }\n",
       "\n",
       "    .dataframe thead th {\n",
       "        text-align: right;\n",
       "    }\n",
       "</style>\n",
       "<table border=\"1\" class=\"dataframe\">\n",
       "  <thead>\n",
       "    <tr style=\"text-align: right;\">\n",
       "      <th></th>\n",
       "      <th>Year</th>\n",
       "      <th>Pre-tax national income \n",
       "Top 10% share</th>\n",
       "      <th>Pre-tax national income \n",
       "Top 1% share</th>\n",
       "      <th>Net personal wealth\n",
       "Top 10% share</th>\n",
       "      <th>Net personal wealth\n",
       "Top 1% share</th>\n",
       "      <th>Country</th>\n",
       "      <th>Election type</th>\n",
       "      <th>Voter Turnout</th>\n",
       "      <th>Registration</th>\n",
       "      <th>Voting age population</th>\n",
       "      <th>Population</th>\n",
       "      <th>Compulsory voting</th>\n",
       "    </tr>\n",
       "  </thead>\n",
       "  <tbody>\n",
       "    <tr>\n",
       "      <th>9</th>\n",
       "      <td>2007</td>\n",
       "      <td>0.366666</td>\n",
       "      <td>0.116417</td>\n",
       "      <td>NaN</td>\n",
       "      <td>NaN</td>\n",
       "      <td>Ireland</td>\n",
       "      <td>Parliamentary</td>\n",
       "      <td>67.03 %</td>\n",
       "      <td>3,110,914</td>\n",
       "      <td>3,026,706</td>\n",
       "      <td>4,234,925</td>\n",
       "      <td>No</td>\n",
       "    </tr>\n",
       "  </tbody>\n",
       "</table>\n",
       "</div>"
      ],
      "text/plain": [
       "   Year  Pre-tax national income \\nTop 10% share  \\\n",
       "9  2007                                 0.366666   \n",
       "\n",
       "   Pre-tax national income \\nTop 1% share  Net personal wealth\\nTop 10% share  \\\n",
       "9                                0.116417                                 NaN   \n",
       "\n",
       "   Net personal wealth\\nTop 1% share  Country  Election type Voter Turnout  \\\n",
       "9                                NaN  Ireland  Parliamentary       67.03 %   \n",
       "\n",
       "  Registration Voting age population  Population Compulsory voting  \n",
       "9   3,110,914             3,026,706   4,234,925                 No  "
      ]
     },
     "execution_count": 26,
     "metadata": {},
     "output_type": "execute_result"
    }
   ],
   "source": [
    "Last_Known_Election_Dict['Ireland']"
   ]
  },
  {
   "cell_type": "code",
   "execution_count": 27,
   "metadata": {},
   "outputs": [],
   "source": [
    "Last_Election_Df = pd.DataFrame()\n",
    "frames = []\n",
    "for key in Last_Election_Dict.keys():\n",
    "    frames.append(Last_Election_Dict[key])\n",
    "\n",
    "Last_Election_Df = pd.concat(frames)"
   ]
  },
  {
   "cell_type": "code",
   "execution_count": 28,
   "metadata": {
    "scrolled": false
   },
   "outputs": [
    {
     "data": {
      "text/html": [
       "<div>\n",
       "<style scoped>\n",
       "    .dataframe tbody tr th:only-of-type {\n",
       "        vertical-align: middle;\n",
       "    }\n",
       "\n",
       "    .dataframe tbody tr th {\n",
       "        vertical-align: top;\n",
       "    }\n",
       "\n",
       "    .dataframe thead th {\n",
       "        text-align: right;\n",
       "    }\n",
       "</style>\n",
       "<table border=\"1\" class=\"dataframe\">\n",
       "  <thead>\n",
       "    <tr style=\"text-align: right;\">\n",
       "      <th></th>\n",
       "      <th>Year</th>\n",
       "      <th>Pre-tax national income \n",
       "Top 10% share</th>\n",
       "      <th>Pre-tax national income \n",
       "Top 1% share</th>\n",
       "      <th>Net personal wealth\n",
       "Top 10% share</th>\n",
       "      <th>Net personal wealth\n",
       "Top 1% share</th>\n",
       "      <th>Country</th>\n",
       "      <th>Election type</th>\n",
       "      <th>Voter Turnout</th>\n",
       "      <th>Registration</th>\n",
       "      <th>Voting age population</th>\n",
       "      <th>Population</th>\n",
       "      <th>Compulsory voting</th>\n",
       "    </tr>\n",
       "  </thead>\n",
       "  <tbody>\n",
       "    <tr>\n",
       "      <th>12</th>\n",
       "      <td>2013</td>\n",
       "      <td>0.318800</td>\n",
       "      <td>0.090700</td>\n",
       "      <td>NaN</td>\n",
       "      <td>NaN</td>\n",
       "      <td>Australia</td>\n",
       "      <td>Parliamentary</td>\n",
       "      <td>93.23 %</td>\n",
       "      <td>14,722,754</td>\n",
       "      <td>17,406,251</td>\n",
       "      <td>22,262,501</td>\n",
       "      <td>Yes</td>\n",
       "    </tr>\n",
       "    <tr>\n",
       "      <th>8</th>\n",
       "      <td>2008</td>\n",
       "      <td>0.415478</td>\n",
       "      <td>0.143774</td>\n",
       "      <td>NaN</td>\n",
       "      <td>NaN</td>\n",
       "      <td>Canada</td>\n",
       "      <td>Parliamentary</td>\n",
       "      <td>59.52 %</td>\n",
       "      <td>23,401,064</td>\n",
       "      <td>25,993,117</td>\n",
       "      <td>33,212,696</td>\n",
       "      <td>No</td>\n",
       "    </tr>\n",
       "    <tr>\n",
       "      <th>9</th>\n",
       "      <td>2007</td>\n",
       "      <td>0.260145</td>\n",
       "      <td>0.061202</td>\n",
       "      <td>NaN</td>\n",
       "      <td>NaN</td>\n",
       "      <td>Denmark</td>\n",
       "      <td>Parliamentary</td>\n",
       "      <td>86.59 %</td>\n",
       "      <td>4,022,920</td>\n",
       "      <td>4,186,873</td>\n",
       "      <td>5,468,120</td>\n",
       "      <td>No</td>\n",
       "    </tr>\n",
       "  </tbody>\n",
       "</table>\n",
       "</div>"
      ],
      "text/plain": [
       "    Year  Pre-tax national income \\nTop 10% share  \\\n",
       "12  2013                                 0.318800   \n",
       "8   2008                                 0.415478   \n",
       "9   2007                                 0.260145   \n",
       "\n",
       "    Pre-tax national income \\nTop 1% share  \\\n",
       "12                                0.090700   \n",
       "8                                 0.143774   \n",
       "9                                 0.061202   \n",
       "\n",
       "    Net personal wealth\\nTop 10% share  Net personal wealth\\nTop 1% share  \\\n",
       "12                                 NaN                                NaN   \n",
       "8                                  NaN                                NaN   \n",
       "9                                  NaN                                NaN   \n",
       "\n",
       "      Country  Election type Voter Turnout Registration Voting age population  \\\n",
       "12  Australia  Parliamentary       93.23 %  14,722,754            17,406,251    \n",
       "8      Canada  Parliamentary       59.52 %  23,401,064            25,993,117    \n",
       "9     Denmark  Parliamentary       86.59 %   4,022,920             4,186,873    \n",
       "\n",
       "     Population Compulsory voting  \n",
       "12  22,262,501                Yes  \n",
       "8   33,212,696                 No  \n",
       "9    5,468,120                 No  "
      ]
     },
     "execution_count": 28,
     "metadata": {},
     "output_type": "execute_result"
    }
   ],
   "source": [
    "Last_Election_Df.head(3)"
   ]
  },
  {
   "cell_type": "markdown",
   "metadata": {},
   "source": [
    "<p> Since we don't have access to wealth distribution for most of the countries, we will delete the two columns regarding this measure. Let's note however that, when the data will be available, looking at the effect of wealth distribution over electoral turnout would be a good way to take this research further.</p>"
   ]
  },
  {
   "cell_type": "code",
   "execution_count": 29,
   "metadata": {},
   "outputs": [],
   "source": [
    "Last_Election_Df.drop(['Net personal wealth\\nTop 10% share', 'Net personal wealth\\nTop 1% share'], axis=1, inplace=True)"
   ]
  },
  {
   "cell_type": "code",
   "execution_count": 33,
   "metadata": {},
   "outputs": [],
   "source": [
    "# for plotting purposes, let's get rid of the \"%\" sign in the \"Voter Turnout\" column\n",
    "Last_Election_Df['Voter Turnout'] = Last_Election_Df['Voter Turnout'].astype(str)  \\\n",
    "                                                                     .apply(lambda x: x.strip(' %'))  \\\n",
    "                                                                     .astype(np.float64)"
   ]
  },
  {
   "cell_type": "code",
   "execution_count": 69,
   "metadata": {
    "scrolled": false
   },
   "outputs": [
    {
     "data": {
      "image/png": "[encoded data removed]",
      "text/plain": [
       "<Figure size 864x576 with 1 Axes>"
      ]
     },
     "metadata": {},
     "output_type": "display_data"
    }
   ],
   "source": [
    "def label_point(x, y, val, ax):\n",
    "    a = pd.concat({'x': x, 'y': y, 'val': val}, axis=1)\n",
    "    for i, point in a.iterrows():\n",
    "        ax.text(point['x'], point['y'], str(point['val']))\n",
    "        \n",
    "def plot_reg(data, x, title):\n",
    "    plt.figure(figsize=(12,8))\n",
    "    x = data[x]\n",
    "    y = data['Voter Turnout']\n",
    "    labels = data['Country']\n",
    "    \n",
    "    ax = sns.regplot(x, y)\n",
    "    ax.set(title=title)\n",
    "\n",
    "    label_point(x, y, labels, ax)\n",
    "    \n",
    "plot_reg(Last_Election_Df, 'Pre-tax national income \\nTop 10% share', 'Turnout as a function of income inequality')"
   ]
  },
  {
   "cell_type": "markdown",
   "metadata": {},
   "source": [
    "<p style=\"font-size:2.5vw; color:purple;\"> \"Lies, Damn Lies and Statistics\"</p>"
   ]
  },
  {
   "cell_type": "markdown",
   "metadata": {},
   "source": [
    "We find three dots that are especially far from the regression line : one above the line is Turkey, the other one is Australia, and the last is the United States.\n",
    "The reason for Australia and Turkey is quite simple : in both of these countries it is compulsory to vote !\n",
    "Therefore they produce a bias. We will try to plot the graph without these two instances to see what happens :"
   ]
  },
  {
   "cell_type": "code",
   "execution_count": 65,
   "metadata": {},
   "outputs": [
    {
     "data": {
      "text/plain": [
       "Country\n",
       "Australia        [Yes]\n",
       "Turkey           [Yes]\n",
       "United States     [No]\n",
       "Name: Compulsory voting, dtype: object"
      ]
     },
     "execution_count": 65,
     "metadata": {},
     "output_type": "execute_result"
    }
   ],
   "source": [
    "idea[ idea['Country'].isin(['Turkey', 'Australia', 'United States'])].groupby('Country')['Compulsory voting'].unique()"
   ]
  },
  {
   "cell_type": "code",
   "execution_count": 66,
   "metadata": {},
   "outputs": [
    {
     "data": {
      "image/png": "[encoded data removed]",
      "text/plain": [
       "<Figure size 864x576 with 1 Axes>"
      ]
     },
     "metadata": {},
     "output_type": "display_data"
    }
   ],
   "source": [
    "Last_Election_Df2 = Last_Election_Df[ ~Last_Election_Df['Country'].isin(['Australia', 'Turkey'])]\n",
    "\n",
    "plot_reg(Last_Election_Df2, 'Pre-tax national income \\nTop 10% share', 'Country')"
   ]
  },
  {
   "cell_type": "code",
   "execution_count": 75,
   "metadata": {},
   "outputs": [
    {
     "name": "stdout",
     "output_type": "stream",
     "text": [
      "correlation coefficient: -0.6471161021928691\n",
      "p-value: 0.0011332118129904584\n"
     ]
    }
   ],
   "source": [
    "x = Last_Election_Df2['Pre-tax national income \\nTop 10% share']\n",
    "y = Last_Election_Df2['Voter Turnout']\n",
    "\n",
    "print('correlation coefficient:', pearsonr(x, y)[0])\n",
    "print('p-value:', pearsonr(x, y)[1])"
   ]
  },
  {
   "cell_type": "markdown",
   "metadata": {},
   "source": [
    "<p>The correlation is even more clear when we remove the outliers. The lower the p-value, the more statistically significant  the relationship.</p>\n",
    "\n",
    "<p>In all these graphs, we plotted every country for which we had data available both on the economic inequalities AND on the voter turnout.</p>\n",
    "\n",
    "<p><b>However</b>, we have to be careful in our conclusions, for two reasons:</p>\n",
    "    \n",
    "<ol>\n",
    "    <li>we didn't have a lot of data, and p-value are not entirely reliable with few data. </li>\n",
    "    <li>because these last-known elections range from 2005 to 2015. A shorter period of study (5 years, for example) would surely provide a better snapshot of whether economic inequality affects citizens participation in the electoral process. But we can't do much more as long as the data isn't available.</li>\n",
    "</ol>\n",
    "\n",
    "<p>The original assumption was : the more unequal the country, the less  its citizens seem to engage in the process of choosing representatives. This graph still doesn't definitely prove that claim, but it certainly does not invalidate it</p>\n",
    "\n",
    "\n"
   ]
  },
  {
   "cell_type": "markdown",
   "metadata": {},
   "source": [
    "<p style=\"font-size:2.5vw; color:purple;\"> \"Galileo\": Plot a map of the world using Folium</p>"
   ]
  },
  {
   "cell_type": "code",
   "execution_count": 246,
   "metadata": {
    "collapsed": true
   },
   "outputs": [],
   "source": [
    "country_geo = 'world-countries.json'"
   ]
  },
  {
   "cell_type": "code",
   "execution_count": 266,
   "metadata": {
    "collapsed": true
   },
   "outputs": [],
   "source": [
    "# Here I had to open the world-countries.json file and find the Code for \n",
    "# almost every country. If the grader knows of better way to do this (or a\n",
    "# file where they are all listed) I would be grateful !\n",
    "CountryCode = []\n",
    "for item in Last_Election_Df['Country'] :\n",
    "    if item == 'United States':\n",
    "        CountryCode.append('USA')\n",
    "    elif item == 'United Kingdom':\n",
    "        CountryCode.append('GBR')\n",
    "    elif item == 'Denmark':\n",
    "        CountryCode.append('DNK')\n",
    "    elif item == 'Germany':\n",
    "        CountryCode.append('DEU')\n",
    "    elif item == 'New Zealand':\n",
    "        CountryCode.append('NZL')\n",
    "    elif item == 'Korea, Republic of':\n",
    "        CountryCode.append('KOR')  \n",
    "    elif item == 'Japan':\n",
    "        CountryCode.append('JPN')  \n",
    "    elif item == 'Ireland':\n",
    "        CountryCode.append('IRL')\n",
    "    elif item == 'Portugal':\n",
    "        CountryCode.append('PRT')\n",
    "    elif item == 'Spain':\n",
    "        CountryCode.append('ESP')\n",
    "    else:\n",
    "        CountryCode.append(item[:3].upper())\n",
    "    \n",
    "Last_Election_Df['CountryCode'] = CountryCode"
   ]
  },
  {
   "cell_type": "code",
   "execution_count": 274,
   "metadata": {
    "collapsed": true
   },
   "outputs": [],
   "source": [
    "plot_data = Last_Election_Df[['CountryCode', 'Voter Turnout']]\n",
    "\n",
    "map = folium.Map(location=[30, 0], zoom_start=1.4)\n",
    "\n",
    "map.choropleth(geo_data=country_geo, data=plot_data,\n",
    "             columns=['CountryCode', 'Voter Turnout'],\n",
    "             key_on='feature.id',\n",
    "             fill_color='YlGnBu', fill_opacity=0.7, line_opacity=0.2,\n",
    "             legend_name=\"Voter Turnout, %\")\n",
    "\n",
    "map.save('Voter_Turnout.html')"
   ]
  },
  {
   "cell_type": "code",
   "execution_count": 304,
   "metadata": {
    "scrolled": true
   },
   "outputs": [
    {
     "data": {
      "text/html": [
       "<iframe src=Voter_Turnout.html width=480 height=300></iframe>"
      ],
      "text/plain": [
       "<IPython.core.display.HTML object>"
      ]
     },
     "execution_count": 304,
     "metadata": {},
     "output_type": "execute_result"
    }
   ],
   "source": [
    "from IPython.display import HTML\n",
    "HTML('<iframe src=Voter_Turnout.html width=480 height=300></iframe>')"
   ]
  },
  {
   "cell_type": "code",
   "execution_count": 299,
   "metadata": {
    "collapsed": true
   },
   "outputs": [],
   "source": [
    "plot_data = Last_Election_Df[['CountryCode', 'Pre-tax national income \\nTop 10% share']]\n",
    "\n",
    "map = folium.Map(location=[30, 0], zoom_start=1.4)\n",
    "\n",
    "map.choropleth(geo_data=country_geo, data=plot_data,\n",
    "             columns=['CountryCode', 'Pre-tax national income \\nTop 10% share']*100,\n",
    "             key_on='feature.id',\n",
    "             fill_color='YlOrRd', fill_opacity=0.7, line_opacity=0.2,\n",
    "             legend_name=\"Pre-tax national income Top 10% share, %\")\n",
    "\n",
    "map.save('national_income_Top_10_share.html')"
   ]
  },
  {
   "cell_type": "code",
   "execution_count": 305,
   "metadata": {
    "scrolled": true
   },
   "outputs": [
    {
     "data": {
      "text/html": [
       "<iframe src=national_income_Top_10_share.html width=480 height=300></iframe>"
      ],
      "text/plain": [
       "<IPython.core.display.HTML object>"
      ]
     },
     "execution_count": 305,
     "metadata": {},
     "output_type": "execute_result"
    }
   ],
   "source": [
    "from IPython.display import HTML\n",
    "HTML('<iframe src=national_income_Top_10_share.html width=480 height=300></iframe>')"
   ]
  },
  {
   "cell_type": "markdown",
   "metadata": {},
   "source": [
    "<p style=\"font-size:2.5vw; color:purple;\"> \"Tomorrow\": what YOU could do with this data</p>"
   ]
  },
  {
   "cell_type": "markdown",
   "metadata": {},
   "source": [
    "Feel free to download and use the data. It's made freely available by the World Income Database and the IDEA think tank. Even plotting basic graphs can be pretty interesting. Here's how you can see that top earners in england used to take 6-7% of the cake thirty years ago, and now each year they take home more than 12% of it."
   ]
  },
  {
   "cell_type": "code",
   "execution_count": 86,
   "metadata": {},
   "outputs": [
    {
     "data": {
      "text/plain": [
       "<matplotlib.axes._subplots.AxesSubplot at 0x1abd6f3db38>"
      ]
     },
     "execution_count": 86,
     "metadata": {},
     "output_type": "execute_result"
    },
    {
     "data": {
      "image/png": "[encoded data removed]",
      "text/plain": [
       "<Figure size 432x288 with 1 Axes>"
      ]
     },
     "metadata": {},
     "output_type": "display_data"
    }
   ],
   "source": [
    "Merged_Dict['United Kingdom'].plot('Year', 'Pre-tax national income \\nTop 1% share') \n",
    "# See how the 2007 crisis affected The City here ?"
   ]
  },
  {
   "cell_type": "code",
   "execution_count": 89,
   "metadata": {},
   "outputs": [
    {
     "data": {
      "text/plain": [
       "<matplotlib.axes._subplots.AxesSubplot at 0x1abd7a13160>"
      ]
     },
     "execution_count": 89,
     "metadata": {},
     "output_type": "execute_result"
    },
    {
     "data": {
      "image/png": "[encoded data removed]",
      "text/plain": [
       "<Figure size 432x288 with 1 Axes>"
      ]
     },
     "metadata": {},
     "output_type": "display_data"
    }
   ],
   "source": [
    "Merged_Dict['United States'].plot('Year', 'Pre-tax national income \\nTop 1% share') "
   ]
  },
  {
   "cell_type": "code",
   "execution_count": 90,
   "metadata": {},
   "outputs": [
    {
     "data": {
      "text/plain": [
       "<matplotlib.axes._subplots.AxesSubplot at 0x1abd717b470>"
      ]
     },
     "execution_count": 90,
     "metadata": {},
     "output_type": "execute_result"
    },
    {
     "data": {
      "image/png": "[encoded data removed]",
      "text/plain": [
       "<Figure size 432x288 with 1 Axes>"
      ]
     },
     "metadata": {},
     "output_type": "display_data"
    }
   ],
   "source": [
    "Merged_Dict['United States'].plot('Year', 'Net personal wealth\\nTop 1% share') "
   ]
  },
  {
   "cell_type": "code",
   "execution_count": null,
   "metadata": {},
   "outputs": [],
   "source": []
  }
 ],
 "metadata": {
  "kernelspec": {
   "display_name": "Python 3",
   "language": "python",
   "name": "python3"
  },
  "language_info": {
   "codemirror_mode": {
    "name": "ipython",
    "version": 3
   },
   "file_extension": ".py",
   "mimetype": "text/x-python",
   "name": "python",
   "nbconvert_exporter": "python",
   "pygments_lexer": "ipython3",
   "version": "3.6.4"
  }
 },
 "nbformat": 4,
 "nbformat_minor": 2
}
